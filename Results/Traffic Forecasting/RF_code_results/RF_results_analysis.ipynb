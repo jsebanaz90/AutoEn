{
 "cells": [
  {
   "cell_type": "code",
   "execution_count": 1,
   "metadata": {},
   "outputs": [],
   "source": [
    "import pandas as pd\n",
    "import numpy as np\n",
    "import matplotlib.pyplot as plt\n",
    "import csv\n",
    "from sklearn.metrics import roc_curve, auc\n",
    "import statistics\n",
    "from sklearn.metrics import roc_curve, auc, accuracy_score, roc_auc_score\n",
    "from sklearn.model_selection import train_test_split, StratifiedKFold, cross_val_score\n",
    "\n",
    "from sklearn.ensemble import RandomForestClassifier\n",
    "from sklearn.svm import SVC\n",
    "from sklearn.discriminant_analysis import LinearDiscriminantAnalysis\n",
    "from sklearn.metrics import balanced_accuracy_score,roc_auc_score\n",
    "from sklearn.metrics import roc_auc_score\n",
    "from sklearn.ensemble import GradientBoostingClassifier\n",
    "\n",
    "import statistics\n",
    "\n",
    "import pandas as pd\n",
    "import numpy as np\n",
    "from scipy.optimize import minimize\n",
    "from sklearn.model_selection import StratifiedKFold\n",
    "from sklearn.ensemble import RandomForestClassifier\n",
    "from sklearn.linear_model import LogisticRegression\n",
    "from sklearn.metrics import log_loss\n",
    "import os"
   ]
  },
  {
   "cell_type": "code",
   "execution_count": 3,
   "metadata": {},
   "outputs": [
    {
     "data": {
      "text/plain": [
       "[0.23275077662818838,\n",
       " 0.3657064083988621,\n",
       " 0.4421489016233784,\n",
       " 0.47165045710203196,\n",
       " 0.4893383348149668,\n",
       " 0.13341271481101988,\n",
       " 0.18465744950857363,\n",
       " 0.21822583223754363,\n",
       " 0.21667755299223485,\n",
       " 0.22919436087653236,\n",
       " 0.5389452420886982,\n",
       " 0.5679640160403904,\n",
       " 0.5711903235440682,\n",
       " 0.5694880769237189,\n",
       " 0.4195615515297434,\n",
       " 0.46078730560797376,\n",
       " 0.4822475383736767,\n",
       " 0.484896717320131]"
      ]
     },
     "execution_count": 3,
     "metadata": {},
     "output_type": "execute_result"
    }
   ],
   "source": [
    "list_of_items = [1,2,3,4,5,6,7,8,9,10,11,12,13,14,15,16,17,18]\n",
    "\n",
    "datasets_names= list()\n",
    "\n",
    "\n",
    "list_mean_test_errors =  list()\n",
    "    \n",
    "for data_set in list_of_items: \n",
    "    \n",
    "    file = open(\"results_RF_multiclass_dataset_{}.txt\".format(data_set),\"r\")\n",
    "    file_content = file.readlines()\n",
    "    string = file_content[-1]\n",
    "    test_error = float(string)\n",
    "    list_mean_test_errors.append(test_error)\n",
    "    datasets_names.append(data_set)\n",
    "        \n",
    "list_mean_test_errors"
   ]
  },
  {
   "cell_type": "code",
   "execution_count": null,
   "metadata": {},
   "outputs": [],
   "source": []
  },
  {
   "cell_type": "code",
   "execution_count": null,
   "metadata": {},
   "outputs": [],
   "source": []
  }
 ],
 "metadata": {
  "kernelspec": {
   "display_name": "Python 3",
   "language": "python",
   "name": "python3"
  },
  "language_info": {
   "codemirror_mode": {
    "name": "ipython",
    "version": 3
   },
   "file_extension": ".py",
   "mimetype": "text/x-python",
   "name": "python",
   "nbconvert_exporter": "python",
   "pygments_lexer": "ipython3",
   "version": "3.6.3"
  }
 },
 "nbformat": 4,
 "nbformat_minor": 2
}
